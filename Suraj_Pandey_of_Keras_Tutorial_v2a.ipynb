{
  "nbformat": 4,
  "nbformat_minor": 0,
  "metadata": {
    "kernelspec": {
      "display_name": "Python 3",
      "language": "python",
      "name": "python3"
    },
    "language_info": {
      "codemirror_mode": {
        "name": "ipython",
        "version": 3
      },
      "file_extension": ".py",
      "mimetype": "text/x-python",
      "name": "python",
      "nbconvert_exporter": "python",
      "pygments_lexer": "ipython3",
      "version": "3.7.3"
    },
    "colab": {
      "name": "Suraj Pandey of Keras_Tutorial_v2a.ipynb",
      "provenance": [],
      "include_colab_link": true
    }
  },
  "cells": [
    {
      "cell_type": "markdown",
      "metadata": {
        "id": "view-in-github",
        "colab_type": "text"
      },
      "source": [
        "<a href=\"https://colab.research.google.com/github/surajpandey11/Convolutional-neural-network/blob/main/Suraj_Pandey_of_Keras_Tutorial_v2a.ipynb\" target=\"_parent\"><img src=\"https://colab.research.google.com/assets/colab-badge.svg\" alt=\"Open In Colab\"/></a>"
      ]
    },
    {
      "cell_type": "markdown",
      "metadata": {
        "id": "xVmOQ9CkbDnh"
      },
      "source": [
        "# Keras tutorial - Emotion Detection in Images of Faces\n",
        "\n",
        "Welcome to the first assignment of week 2. In this assignment, you will:\n",
        "1. Learn to use Keras, a high-level neural networks API (programming framework), written in Python and capable of running on top of several lower-level frameworks including TensorFlow and CNTK. \n",
        "2. See how you can in a couple of hours build a deep learning algorithm.\n",
        "\n",
        "#### Why are we using Keras? \n",
        "\n",
        "* Keras was developed to enable deep learning engineers to build and experiment with different models very quickly. \n",
        "* Just as TensorFlow is a higher-level framework than Python, Keras is an even higher-level framework and provides additional abstractions. \n",
        "* Being able to go from idea to result with the least possible delay is key to finding good models. \n",
        "* However, Keras is more restrictive than the lower-level frameworks, so there are some very complex models that you would still implement in TensorFlow rather than in Keras. \n",
        "* That being said, Keras will work fine for many common models. "
      ]
    },
    {
      "cell_type": "markdown",
      "metadata": {
        "id": "51y_XoZUbDnu"
      },
      "source": [
        "## <font color='darkblue'>Updates</font>\n",
        "\n",
        "#### If you were working on the notebook before this update...\n",
        "* The current notebook is version \"v2a\".\n",
        "* You can find your original work saved in the notebook with the previous version name (\"v2\").\n",
        "* To view the file directory, go to the menu \"File->Open\", and this will open a new tab that shows the file directory.\n",
        "\n",
        "#### List of updates\n",
        "* Changed back-story of model to \"emotion detection\" from \"happy house.\"\n",
        "* Cleaned/organized wording of instructions and commentary.\n",
        "* Added instructions on how to set `input_shape`\n",
        "* Added explanation of \"objects as functions\" syntax.\n",
        "* Clarified explanation of variable naming convention.\n",
        "* Added hints for steps 1,2,3,4"
      ]
    },
    {
      "cell_type": "markdown",
      "metadata": {
        "id": "T1Pk4D1LbDnv"
      },
      "source": [
        "## Load packages\n",
        "* In this exercise, you'll work on the \"Emotion detection\" model, which we'll explain below. \n",
        "* Let's load the required packages."
      ]
    },
    {
      "cell_type": "code",
      "metadata": {
        "colab": {
          "base_uri": "https://localhost:8080/"
        },
        "id": "DPM-iBwaeoK2",
        "outputId": "fbd7a691-66d9-4ada-980c-5c876f2f958c"
      },
      "source": [
        "from google.colab import drive\n",
        "drive.mount('/content/drive')"
      ],
      "execution_count": null,
      "outputs": [
        {
          "output_type": "stream",
          "text": [
            "Mounted at /content/drive\n"
          ],
          "name": "stdout"
        }
      ]
    },
    {
      "cell_type": "code",
      "metadata": {
        "id": "PFMZI2iDej83"
      },
      "source": [
        "import keras.backend as K\n",
        "import math\n",
        "import numpy as np\n",
        "import h5py\n",
        "import matplotlib.pyplot as plt\n",
        "\n",
        "\n",
        "def mean_pred(y_true, y_pred):\n",
        "    return K.mean(y_pred)\n",
        "\n",
        "def load_dataset():\n",
        "    train_dataset = h5py.File('/content/drive/MyDrive/AlmaBetter/Module 5/Week 3/Day 2/train_happy.h5', \"r\")\n",
        "    train_set_x_orig = np.array(train_dataset[\"train_set_x\"][:]) # your train set features\n",
        "    train_set_y_orig = np.array(train_dataset[\"train_set_y\"][:]) # your train set labels\n",
        "\n",
        "    test_dataset = h5py.File('/content/drive/MyDrive/AlmaBetter/Module 5/Week 3/Day 2/test_happy.h5', \"r\")\n",
        "    test_set_x_orig = np.array(test_dataset[\"test_set_x\"][:]) # your test set features\n",
        "    test_set_y_orig = np.array(test_dataset[\"test_set_y\"][:]) # your test set labels\n",
        "\n",
        "    classes = np.array(test_dataset[\"list_classes\"][:]) # the list of classes\n",
        "    \n",
        "    train_set_y_orig = train_set_y_orig.reshape((1, train_set_y_orig.shape[0]))\n",
        "    test_set_y_orig = test_set_y_orig.reshape((1, test_set_y_orig.shape[0]))\n",
        "    \n",
        "    return train_set_x_orig, train_set_y_orig, test_set_x_orig, test_set_y_orig, classes\n"
      ],
      "execution_count": null,
      "outputs": []
    },
    {
      "cell_type": "code",
      "metadata": {
        "collapsed": true,
        "id": "ucXCZryebDnv"
      },
      "source": [
        "import numpy as np\n",
        "from keras import layers\n",
        "from keras.layers import Input, Dense, Activation, ZeroPadding2D, BatchNormalization, Flatten, Conv2D\n",
        "from keras.layers import AveragePooling2D, MaxPooling2D, Dropout, GlobalMaxPooling2D, GlobalAveragePooling2D\n",
        "from keras.models import Model\n",
        "from keras.preprocessing import image\n",
        "from keras.utils import layer_utils\n",
        "from keras.utils.data_utils import get_file\n",
        "from keras.applications.imagenet_utils import preprocess_input\n",
        "import pydot\n",
        "from IPython.display import SVG\n",
        "from keras.utils.vis_utils import model_to_dot\n",
        "from keras.utils import plot_model\n",
        "# from kt_utils import *\n",
        "\n",
        "import keras.backend as K\n",
        "K.set_image_data_format('channels_last')\n",
        "import matplotlib.pyplot as plt\n",
        "from matplotlib.pyplot import imshow\n",
        "\n",
        "%matplotlib inline"
      ],
      "execution_count": null,
      "outputs": []
    },
    {
      "cell_type": "markdown",
      "metadata": {
        "id": "YsIdQRs1bDnw"
      },
      "source": [
        "**Note**: As you can see, we've imported a lot of functions from Keras. You can use them by calling them directly in your code. Ex: `X = Input(...)` or `X = ZeroPadding2D(...)`. \n",
        "\n",
        "In other words, unlike TensorFlow, you don't have to create the graph and then make a separate `sess.run()` call to evaluate those variables."
      ]
    },
    {
      "cell_type": "markdown",
      "metadata": {
        "id": "yAKprrqEbDnx"
      },
      "source": [
        "## 1 - Emotion Tracking\n",
        "\n",
        "* A nearby community health clinic is helping the local residents monitor their mental health.  \n",
        "* As part of their study, they are asking volunteers to record their emotions throughout the day.\n",
        "* To help the participants more easily track their emotions, you are asked to create an app that will classify their emotions based on some pictures that the volunteers will take of their facial expressions.\n",
        "* As a proof-of-concept, you first train your model to detect if someone's emotion is classified as \"happy\" or \"not happy.\"\n",
        "\n",
        "To build and train this model, you have gathered pictures of some volunteers in a nearby neighborhood. The dataset is labeled.\n",
        "<img src=\"images/face_images.png\" style=\"width:550px;height:250px;\">\n",
        "\n",
        "Run the following code to normalize the dataset and learn about its shapes."
      ]
    },
    {
      "cell_type": "code",
      "metadata": {
        "collapsed": true,
        "id": "7CPti1gLbDny",
        "colab": {
          "base_uri": "https://localhost:8080/"
        },
        "outputId": "a1513056-91c3-4cb0-d694-7bf79b56ca6a"
      },
      "source": [
        "X_train_orig, Y_train_orig, X_test_orig, Y_test_orig, classes = load_dataset()\n",
        "\n",
        "# Normalize image vectors\n",
        "X_train = X_train_orig/255.\n",
        "X_test = X_test_orig/255.\n",
        "\n",
        "# Reshape\n",
        "Y_train = Y_train_orig.T\n",
        "Y_test = Y_test_orig.T\n",
        "\n",
        "print (\"number of training examples = \" + str(X_train.shape[0]))\n",
        "print (\"number of test examples = \" + str(X_test.shape[0]))\n",
        "print (\"X_train shape: \" + str(X_train.shape))\n",
        "print (\"Y_train shape: \" + str(Y_train.shape))\n",
        "print (\"X_test shape: \" + str(X_test.shape))\n",
        "print (\"Y_test shape: \" + str(Y_test.shape))"
      ],
      "execution_count": 12,
      "outputs": [
        {
          "output_type": "stream",
          "text": [
            "number of training examples = 600\n",
            "number of test examples = 150\n",
            "X_train shape: (600, 64, 64, 3)\n",
            "Y_train shape: (600, 1)\n",
            "X_test shape: (150, 64, 64, 3)\n",
            "Y_test shape: (150, 1)\n"
          ],
          "name": "stdout"
        }
      ]
    },
    {
      "cell_type": "markdown",
      "metadata": {
        "id": "xWdwFn6ebDny"
      },
      "source": [
        "**Details of the \"Face\" dataset**:\n",
        "- Images are of shape (64,64,3)\n",
        "- Training: 600 pictures\n",
        "- Test: 150 pictures"
      ]
    },
    {
      "cell_type": "markdown",
      "metadata": {
        "id": "1Joi16t9bDnz"
      },
      "source": [
        "## 2 - Building a model in Keras\n",
        "\n",
        "Keras is very good for rapid prototyping. In just a short time you will be able to build a model that achieves outstanding results.\n",
        "\n",
        "Here is an example of a model in Keras:\n",
        "\n",
        "```python\n",
        "def model(input_shape):\n",
        "    \"\"\"\n",
        "    input_shape: The height, width and channels as a tuple.  \n",
        "        Note that this does not include the 'batch' as a dimension.\n",
        "        If you have a batch like 'X_train', \n",
        "        then you can provide the input_shape using\n",
        "        X_train.shape[1:]\n",
        "    \"\"\"\n",
        "    \n",
        "    # Define the input placeholder as a tensor with shape input_shape. Think of this as your input image!\n",
        "    X_input = Input(input_shape)\n",
        "\n",
        "    # Zero-Padding: pads the border of X_input with zeroes\n",
        "    X = ZeroPadding2D((3, 3))(X_input)\n",
        "\n",
        "    # CONV -> BN -> RELU Block applied to X\n",
        "    X = Conv2D(32, (7, 7), strides = (1, 1), name = 'conv0')(X)\n",
        "    X = BatchNormalization(axis = 3, name = 'bn0')(X)\n",
        "    X = Activation('relu')(X)\n",
        "\n",
        "    # MAXPOOL\n",
        "    X = MaxPooling2D((2, 2), name='max_pool')(X)\n",
        "\n",
        "    # FLATTEN X (means convert it to a vector) + FULLYCONNECTED\n",
        "    X = Flatten()(X)\n",
        "    X = Dense(1, activation='sigmoid', name='fc')(X)\n",
        "\n",
        "    # Create model. This creates your Keras model instance, you'll use this instance to train/test the model.\n",
        "    model = Model(inputs = X_input, outputs = X, name='HappyModel')\n",
        "    \n",
        "    return model\n",
        "```"
      ]
    },
    {
      "cell_type": "markdown",
      "metadata": {
        "id": "-nSNFyaIbDn0"
      },
      "source": [
        "#### Variable naming convention\n",
        "\n",
        "* Note that Keras uses a different convention with variable names than we've previously used with numpy and TensorFlow. \n",
        "* Instead of creating unique variable names for each step and each layer, such as \n",
        "```\n",
        "X = ...\n",
        "Z1 = ...\n",
        "A1 = ...\n",
        "```\n",
        "* Keras re-uses and overwrites the same variable at each step:\n",
        "```\n",
        "X = ...\n",
        "X = ...\n",
        "X = ...\n",
        "```\n",
        "* The exception is `X_input`, which we kept separate since it's needed later."
      ]
    },
    {
      "cell_type": "markdown",
      "metadata": {
        "id": "iXkUXHztbDn0"
      },
      "source": [
        "#### Objects as functions\n",
        "* Notice how there are two pairs of parentheses in each statement.  For example:\n",
        "```\n",
        "X = ZeroPadding2D((3, 3))(X_input)\n",
        "```\n",
        "* The first is a constructor call which creates an object (ZeroPadding2D).\n",
        "* In Python, objects can be called as functions. Search for 'python object as function and you can read this blog post [Python Pandemonium](https://medium.com/python-pandemonium/function-as-objects-in-python-d5215e6d1b0d).  See the section titled \"Objects as functions.\"\n",
        "* The single line is equivalent to this:\n",
        "```\n",
        "ZP = ZeroPadding2D((3, 3)) # ZP is an object that can be called as a function\n",
        "X = ZP(X_input) \n",
        "```"
      ]
    },
    {
      "cell_type": "markdown",
      "metadata": {
        "id": "UUj5AB4wbDn1"
      },
      "source": [
        "**Exercise**: Implement a `HappyModel()`.  \n",
        "* This assignment is more open-ended than most. \n",
        "* Start by implementing a model using the architecture we suggest, and run through the rest of this assignment using that as your initial model. * Later, come back and try out other model architectures. \n",
        "* For example, you might take inspiration from the model above, but then vary the network architecture and hyperparameters however you wish. \n",
        "* You can also use other functions such as `AveragePooling2D()`, `GlobalMaxPooling2D()`, `Dropout()`. \n",
        "\n",
        "**Note**: Be careful with your data's shapes. Use what you've learned in the videos to make sure your convolutional, pooling and fully-connected layers are adapted to the volumes you're applying it to."
      ]
    },
    {
      "cell_type": "code",
      "metadata": {
        "collapsed": true,
        "id": "u4RfKnlvbDn2"
      },
      "source": [
        "# GRADED FUNCTION: HappyModel\n",
        "\n",
        "def HappyModel(input_shape):\n",
        "    \"\"\"\n",
        "    Implementation of the HappyModel.\n",
        "    \n",
        "    Arguments:\n",
        "    input_shape -- shape of the images of the dataset\n",
        "\n",
        "    Returns:\n",
        "    model -- a Model() instance in Keras\n",
        "    \"\"\"\n",
        "    \n",
        "    ### START CODE HERE ###\n",
        "    # Feel free to use the suggested outline in the text above to get started, and run through the whole\n",
        "    # exercise (including the later portions of this notebook) once. The come back also try out other\n",
        "    # network architectures as well. \n",
        "    # Define the input placeholder as a tensor with shape input_shape. Think of this as your input image!\n",
        "    X_input = Input(input_shape)\n",
        "\n",
        "    # Zero-Padding: pads the border of X_input with zeroes\n",
        "    X = ZeroPadding2D((3, 3))(X_input)\n",
        "\n",
        "    # CONV -> BN -> RELU Block applied to X\n",
        "    X = Conv2D(32, (7, 7), strides = (1, 1), name = 'conv0')(X)\n",
        "    X = BatchNormalization(axis = 3, name = 'bn0')(X)\n",
        "    X = Activation('relu')(X)\n",
        "\n",
        "    # MAXPOOL\n",
        "    X = MaxPooling2D((2, 2), name='max_pool')(X)\n",
        "\n",
        "    # FLATTEN X (means convert it to a vector) + FULLYCONNECTED\n",
        "    X = Flatten()(X)\n",
        "    X = Dense(1, activation='sigmoid', name='fc')(X)\n",
        "\n",
        "    # Create model. This creates your Keras model instance, you'll use this instance to train/test the model.\n",
        "    model = Model(inputs = X_input, outputs = X, name='HappyModel')\n",
        "    \n",
        "    ### END CODE HERE ###\n",
        "    \n",
        "    return model"
      ],
      "execution_count": 8,
      "outputs": []
    },
    {
      "cell_type": "markdown",
      "metadata": {
        "id": "fJuAofiFbDn3"
      },
      "source": [
        "You have now built a function to describe your model. To train and test this model, there are four steps in Keras:\n",
        "1. Create the model by calling the function above  \n",
        "\n",
        "2. Compile the model by calling `model.compile(optimizer = \"...\", loss = \"...\", metrics = [\"accuracy\"])`  \n",
        "\n",
        "3. Train the model on train data by calling `model.fit(x = ..., y = ..., epochs = ..., batch_size = ...)`  \n",
        "\n",
        "4. Test the model on test data by calling `model.evaluate(x = ..., y = ...)`  \n",
        "\n",
        "If you want to know more about `model.compile()`, `model.fit()`, `model.evaluate()` and their arguments, refer to the official [Keras documentation](https://keras.io/models/model/)."
      ]
    },
    {
      "cell_type": "markdown",
      "metadata": {
        "id": "a8e4YkkbbDn5"
      },
      "source": [
        "#### Step 1: create the model.  \n",
        "**Hint**:  \n",
        "The `input_shape` parameter is a tuple (height, width, channels).  It excludes the batch number.  \n",
        "Try `X_train.shape[1:]` as the `input_shape`."
      ]
    },
    {
      "cell_type": "code",
      "metadata": {
        "collapsed": true,
        "id": "f1ERKMzIbDn-"
      },
      "source": [
        "### START CODE HERE ### (1 line)\n",
        "happyModel = HappyModel(X_train.shape[1:])\n",
        "### END CODE HERE ###"
      ],
      "execution_count": 9,
      "outputs": []
    },
    {
      "cell_type": "markdown",
      "metadata": {
        "id": "7zIYIQQobDn_"
      },
      "source": [
        "#### Step 2: compile the model\n",
        "\n",
        "**Hint**:  \n",
        "Optimizers you can try include `'adam'`, `'sgd'` or others.  See the documentation for [optimizers](https://keras.io/optimizers/)  \n",
        "The \"happiness detection\" is a binary classification problem.  The loss function that you can use is `'binary_cross_entropy'`.  Note that `'categorical_cross_entropy'` won't work with your data set as its formatted, because the data is an array of 0 or 1 rather than two arrays (one for each category).  Documentation for [losses](https://keras.io/losses/)"
      ]
    },
    {
      "cell_type": "code",
      "metadata": {
        "collapsed": true,
        "id": "Uc456cmjbDn_"
      },
      "source": [
        "### START CODE HERE ### (1 line)\n",
        "happyModel.compile(optimizer = \"adam\", loss = \"binary_crossentropy\", metrics = [\"accuracy\"])\n",
        "### END CODE HERE ###"
      ],
      "execution_count": 10,
      "outputs": []
    },
    {
      "cell_type": "markdown",
      "metadata": {
        "id": "rzZQBK5RbDoA"
      },
      "source": [
        "#### Step 3: train the model\n",
        "\n",
        "**Hint**:  \n",
        "Use the `'X_train'`, `'Y_train'` variables.  Use integers for the epochs and batch_size\n",
        "\n",
        "**Note**: If you run `fit()` again, the `model` will continue to train with the parameters it has already learned instead of reinitializing them."
      ]
    },
    {
      "cell_type": "code",
      "metadata": {
        "collapsed": true,
        "id": "RFY-QTsBbDoA",
        "colab": {
          "base_uri": "https://localhost:8080/"
        },
        "outputId": "d4fd1572-25be-49cc-e1dd-c42d186e12ab"
      },
      "source": [
        "### START CODE HERE ### (1 line)\n",
        "happyModel.fit(X_train, Y_train, \n",
        "              batch_size =16,\n",
        "              epochs =100,\n",
        "              validation_data = (X_test, Y_test))\n",
        "### END CODE HERE ###"
      ],
      "execution_count": 11,
      "outputs": [
        {
          "output_type": "stream",
          "text": [
            "Epoch 1/100\n",
            "38/38 [==============================] - 5s 115ms/step - loss: 1.9119 - accuracy: 0.6218 - val_loss: 0.7261 - val_accuracy: 0.6600\n",
            "Epoch 2/100\n",
            "38/38 [==============================] - 4s 109ms/step - loss: 0.2933 - accuracy: 0.8789 - val_loss: 0.4787 - val_accuracy: 0.7667\n",
            "Epoch 3/100\n",
            "38/38 [==============================] - 4s 108ms/step - loss: 0.1323 - accuracy: 0.9681 - val_loss: 0.3890 - val_accuracy: 0.8067\n",
            "Epoch 4/100\n",
            "38/38 [==============================] - 4s 110ms/step - loss: 0.2084 - accuracy: 0.9116 - val_loss: 0.2698 - val_accuracy: 0.9467\n",
            "Epoch 5/100\n",
            "38/38 [==============================] - 4s 108ms/step - loss: 0.0988 - accuracy: 0.9557 - val_loss: 0.3110 - val_accuracy: 0.8467\n",
            "Epoch 6/100\n",
            "38/38 [==============================] - 4s 109ms/step - loss: 0.1979 - accuracy: 0.9107 - val_loss: 0.1890 - val_accuracy: 0.9467\n",
            "Epoch 7/100\n",
            "38/38 [==============================] - 4s 109ms/step - loss: 0.0734 - accuracy: 0.9729 - val_loss: 0.2352 - val_accuracy: 0.9000\n",
            "Epoch 8/100\n",
            "38/38 [==============================] - 4s 110ms/step - loss: 0.0715 - accuracy: 0.9733 - val_loss: 0.2827 - val_accuracy: 0.8667\n",
            "Epoch 9/100\n",
            "38/38 [==============================] - 4s 109ms/step - loss: 0.1160 - accuracy: 0.9572 - val_loss: 0.7443 - val_accuracy: 0.6667\n",
            "Epoch 10/100\n",
            "38/38 [==============================] - 4s 110ms/step - loss: 0.0664 - accuracy: 0.9678 - val_loss: 0.1246 - val_accuracy: 0.9667\n",
            "Epoch 11/100\n",
            "38/38 [==============================] - 4s 109ms/step - loss: 0.0834 - accuracy: 0.9752 - val_loss: 0.2709 - val_accuracy: 0.8533\n",
            "Epoch 12/100\n",
            "38/38 [==============================] - 4s 109ms/step - loss: 0.0882 - accuracy: 0.9709 - val_loss: 0.1505 - val_accuracy: 0.9467\n",
            "Epoch 13/100\n",
            "38/38 [==============================] - 4s 109ms/step - loss: 0.2117 - accuracy: 0.9216 - val_loss: 1.7601 - val_accuracy: 0.6267\n",
            "Epoch 14/100\n",
            "38/38 [==============================] - 4s 109ms/step - loss: 0.0465 - accuracy: 0.9830 - val_loss: 0.7110 - val_accuracy: 0.8000\n",
            "Epoch 15/100\n",
            "38/38 [==============================] - 4s 110ms/step - loss: 0.0570 - accuracy: 0.9754 - val_loss: 0.1154 - val_accuracy: 0.9600\n",
            "Epoch 16/100\n",
            "38/38 [==============================] - 4s 108ms/step - loss: 0.0213 - accuracy: 0.9926 - val_loss: 0.1577 - val_accuracy: 0.9467\n",
            "Epoch 17/100\n",
            "38/38 [==============================] - 4s 109ms/step - loss: 0.2498 - accuracy: 0.9344 - val_loss: 0.9292 - val_accuracy: 0.7067\n",
            "Epoch 18/100\n",
            "38/38 [==============================] - 4s 108ms/step - loss: 0.0561 - accuracy: 0.9755 - val_loss: 0.1692 - val_accuracy: 0.9400\n",
            "Epoch 19/100\n",
            "38/38 [==============================] - 4s 109ms/step - loss: 0.0119 - accuracy: 0.9981 - val_loss: 0.2504 - val_accuracy: 0.8867\n",
            "Epoch 20/100\n",
            "38/38 [==============================] - 4s 109ms/step - loss: 0.1940 - accuracy: 0.9493 - val_loss: 0.6289 - val_accuracy: 0.8133\n",
            "Epoch 21/100\n",
            "38/38 [==============================] - 4s 109ms/step - loss: 0.0501 - accuracy: 0.9905 - val_loss: 0.8964 - val_accuracy: 0.7000\n",
            "Epoch 22/100\n",
            "38/38 [==============================] - 4s 109ms/step - loss: 0.0537 - accuracy: 0.9907 - val_loss: 0.1858 - val_accuracy: 0.9333\n",
            "Epoch 23/100\n",
            "38/38 [==============================] - 4s 109ms/step - loss: 0.0409 - accuracy: 0.9873 - val_loss: 0.5208 - val_accuracy: 0.8600\n",
            "Epoch 24/100\n",
            "38/38 [==============================] - 4s 110ms/step - loss: 0.0272 - accuracy: 0.9865 - val_loss: 0.2092 - val_accuracy: 0.9200\n",
            "Epoch 25/100\n",
            "38/38 [==============================] - 4s 108ms/step - loss: 0.1159 - accuracy: 0.9715 - val_loss: 0.1109 - val_accuracy: 0.9467\n",
            "Epoch 26/100\n",
            "38/38 [==============================] - 4s 110ms/step - loss: 0.0185 - accuracy: 0.9929 - val_loss: 0.1624 - val_accuracy: 0.9267\n",
            "Epoch 27/100\n",
            "38/38 [==============================] - 4s 110ms/step - loss: 0.0263 - accuracy: 0.9920 - val_loss: 0.3461 - val_accuracy: 0.8733\n",
            "Epoch 28/100\n",
            "38/38 [==============================] - 4s 109ms/step - loss: 0.1262 - accuracy: 0.9617 - val_loss: 0.4274 - val_accuracy: 0.8600\n",
            "Epoch 29/100\n",
            "38/38 [==============================] - 4s 109ms/step - loss: 0.0223 - accuracy: 0.9950 - val_loss: 0.1966 - val_accuracy: 0.9333\n",
            "Epoch 30/100\n",
            "38/38 [==============================] - 4s 110ms/step - loss: 0.0534 - accuracy: 0.9867 - val_loss: 0.0669 - val_accuracy: 0.9800\n",
            "Epoch 31/100\n",
            "38/38 [==============================] - 4s 109ms/step - loss: 0.0150 - accuracy: 0.9934 - val_loss: 0.0650 - val_accuracy: 0.9600\n",
            "Epoch 32/100\n",
            "38/38 [==============================] - 4s 109ms/step - loss: 0.0138 - accuracy: 0.9934 - val_loss: 1.0979 - val_accuracy: 0.6933\n",
            "Epoch 33/100\n",
            "38/38 [==============================] - 4s 110ms/step - loss: 0.1227 - accuracy: 0.9685 - val_loss: 0.1012 - val_accuracy: 0.9600\n",
            "Epoch 34/100\n",
            "38/38 [==============================] - 4s 109ms/step - loss: 0.0285 - accuracy: 0.9940 - val_loss: 0.2017 - val_accuracy: 0.9200\n",
            "Epoch 35/100\n",
            "38/38 [==============================] - 4s 111ms/step - loss: 0.0129 - accuracy: 0.9925 - val_loss: 0.1232 - val_accuracy: 0.9467\n",
            "Epoch 36/100\n",
            "38/38 [==============================] - 4s 109ms/step - loss: 0.0057 - accuracy: 0.9976 - val_loss: 0.2075 - val_accuracy: 0.9467\n",
            "Epoch 37/100\n",
            "38/38 [==============================] - 4s 110ms/step - loss: 0.0267 - accuracy: 0.9877 - val_loss: 0.1259 - val_accuracy: 0.9533\n",
            "Epoch 38/100\n",
            "38/38 [==============================] - 4s 110ms/step - loss: 0.0210 - accuracy: 0.9945 - val_loss: 0.9356 - val_accuracy: 0.7200\n",
            "Epoch 39/100\n",
            "38/38 [==============================] - 4s 111ms/step - loss: 0.0481 - accuracy: 0.9775 - val_loss: 0.1199 - val_accuracy: 0.9733\n",
            "Epoch 40/100\n",
            "38/38 [==============================] - 4s 111ms/step - loss: 0.0659 - accuracy: 0.9832 - val_loss: 0.1036 - val_accuracy: 0.9533\n",
            "Epoch 41/100\n",
            "38/38 [==============================] - 4s 110ms/step - loss: 0.0265 - accuracy: 0.9907 - val_loss: 0.3488 - val_accuracy: 0.9000\n",
            "Epoch 42/100\n",
            "38/38 [==============================] - 4s 115ms/step - loss: 0.0911 - accuracy: 0.9737 - val_loss: 1.7780 - val_accuracy: 0.6400\n",
            "Epoch 43/100\n",
            "38/38 [==============================] - 4s 113ms/step - loss: 0.0341 - accuracy: 0.9893 - val_loss: 0.1308 - val_accuracy: 0.9533\n",
            "Epoch 44/100\n",
            "38/38 [==============================] - 4s 111ms/step - loss: 0.0289 - accuracy: 0.9903 - val_loss: 0.0710 - val_accuracy: 0.9733\n",
            "Epoch 45/100\n",
            "38/38 [==============================] - 4s 112ms/step - loss: 0.1261 - accuracy: 0.9732 - val_loss: 0.1565 - val_accuracy: 0.9533\n",
            "Epoch 46/100\n",
            "38/38 [==============================] - 4s 113ms/step - loss: 0.0422 - accuracy: 0.9892 - val_loss: 0.4263 - val_accuracy: 0.8933\n",
            "Epoch 47/100\n",
            "38/38 [==============================] - 4s 112ms/step - loss: 0.0159 - accuracy: 0.9913 - val_loss: 0.3269 - val_accuracy: 0.9067\n",
            "Epoch 48/100\n",
            "38/38 [==============================] - 4s 111ms/step - loss: 0.0338 - accuracy: 0.9832 - val_loss: 0.0723 - val_accuracy: 0.9733\n",
            "Epoch 49/100\n",
            "38/38 [==============================] - 4s 111ms/step - loss: 0.0204 - accuracy: 0.9925 - val_loss: 0.0882 - val_accuracy: 0.9600\n",
            "Epoch 50/100\n",
            "38/38 [==============================] - 4s 110ms/step - loss: 0.1005 - accuracy: 0.9695 - val_loss: 10.3930 - val_accuracy: 0.4400\n",
            "Epoch 51/100\n",
            "38/38 [==============================] - 4s 112ms/step - loss: 0.6926 - accuracy: 0.8637 - val_loss: 0.7770 - val_accuracy: 0.8400\n",
            "Epoch 52/100\n",
            "38/38 [==============================] - 4s 112ms/step - loss: 0.2843 - accuracy: 0.9373 - val_loss: 2.6662 - val_accuracy: 0.7600\n",
            "Epoch 53/100\n",
            "38/38 [==============================] - 4s 112ms/step - loss: 0.0731 - accuracy: 0.9842 - val_loss: 2.8606 - val_accuracy: 0.6600\n",
            "Epoch 54/100\n",
            "38/38 [==============================] - 4s 111ms/step - loss: 0.0359 - accuracy: 0.9898 - val_loss: 0.2163 - val_accuracy: 0.9267\n",
            "Epoch 55/100\n",
            "38/38 [==============================] - 4s 110ms/step - loss: 0.0063 - accuracy: 0.9985 - val_loss: 0.1261 - val_accuracy: 0.9533\n",
            "Epoch 56/100\n",
            "38/38 [==============================] - 4s 111ms/step - loss: 0.0167 - accuracy: 0.9917 - val_loss: 0.2652 - val_accuracy: 0.9267\n",
            "Epoch 57/100\n",
            "38/38 [==============================] - 4s 110ms/step - loss: 0.0426 - accuracy: 0.9823 - val_loss: 0.1936 - val_accuracy: 0.9333\n",
            "Epoch 58/100\n",
            "38/38 [==============================] - 4s 111ms/step - loss: 0.0165 - accuracy: 0.9911 - val_loss: 0.1603 - val_accuracy: 0.9600\n",
            "Epoch 59/100\n",
            "38/38 [==============================] - 4s 112ms/step - loss: 0.0492 - accuracy: 0.9821 - val_loss: 0.1248 - val_accuracy: 0.9533\n",
            "Epoch 60/100\n",
            "38/38 [==============================] - 4s 111ms/step - loss: 0.0042 - accuracy: 0.9997 - val_loss: 0.3830 - val_accuracy: 0.9133\n",
            "Epoch 61/100\n",
            "38/38 [==============================] - 4s 110ms/step - loss: 0.0110 - accuracy: 0.9951 - val_loss: 0.1254 - val_accuracy: 0.9733\n",
            "Epoch 62/100\n",
            "38/38 [==============================] - 4s 111ms/step - loss: 0.0032 - accuracy: 0.9998 - val_loss: 0.1337 - val_accuracy: 0.9467\n",
            "Epoch 63/100\n",
            "38/38 [==============================] - 4s 109ms/step - loss: 0.0302 - accuracy: 0.9956 - val_loss: 0.0740 - val_accuracy: 0.9600\n",
            "Epoch 64/100\n",
            "38/38 [==============================] - 4s 110ms/step - loss: 7.9935e-04 - accuracy: 0.9998 - val_loss: 0.0911 - val_accuracy: 0.9733\n",
            "Epoch 65/100\n",
            "38/38 [==============================] - 4s 109ms/step - loss: 0.0181 - accuracy: 0.9924 - val_loss: 0.3468 - val_accuracy: 0.9200\n",
            "Epoch 66/100\n",
            "38/38 [==============================] - 4s 109ms/step - loss: 0.0109 - accuracy: 0.9929 - val_loss: 0.1400 - val_accuracy: 0.9800\n",
            "Epoch 67/100\n",
            "38/38 [==============================] - 4s 110ms/step - loss: 0.0208 - accuracy: 0.9885 - val_loss: 0.0972 - val_accuracy: 0.9733\n",
            "Epoch 68/100\n",
            "38/38 [==============================] - 4s 109ms/step - loss: 0.0016 - accuracy: 0.9997 - val_loss: 0.0977 - val_accuracy: 0.9667\n",
            "Epoch 69/100\n",
            "38/38 [==============================] - 4s 110ms/step - loss: 0.0060 - accuracy: 0.9994 - val_loss: 0.1650 - val_accuracy: 0.9467\n",
            "Epoch 70/100\n",
            "38/38 [==============================] - 4s 110ms/step - loss: 0.0243 - accuracy: 0.9888 - val_loss: 0.1043 - val_accuracy: 0.9800\n",
            "Epoch 71/100\n",
            "38/38 [==============================] - 4s 110ms/step - loss: 0.0313 - accuracy: 0.9867 - val_loss: 0.1578 - val_accuracy: 0.9600\n",
            "Epoch 72/100\n",
            "38/38 [==============================] - 4s 110ms/step - loss: 0.0439 - accuracy: 0.9891 - val_loss: 0.7907 - val_accuracy: 0.7933\n",
            "Epoch 73/100\n",
            "38/38 [==============================] - 4s 110ms/step - loss: 0.0099 - accuracy: 0.9991 - val_loss: 0.3004 - val_accuracy: 0.8933\n",
            "Epoch 74/100\n",
            "38/38 [==============================] - 4s 109ms/step - loss: 0.0217 - accuracy: 0.9876 - val_loss: 0.0966 - val_accuracy: 0.9800\n",
            "Epoch 75/100\n",
            "38/38 [==============================] - 4s 109ms/step - loss: 0.0196 - accuracy: 0.9958 - val_loss: 0.1978 - val_accuracy: 0.9333\n",
            "Epoch 76/100\n",
            "38/38 [==============================] - 4s 110ms/step - loss: 0.0190 - accuracy: 0.9886 - val_loss: 0.0883 - val_accuracy: 0.9533\n",
            "Epoch 77/100\n",
            "38/38 [==============================] - 4s 109ms/step - loss: 6.5093e-04 - accuracy: 1.0000 - val_loss: 0.0465 - val_accuracy: 0.9800\n",
            "Epoch 78/100\n",
            "38/38 [==============================] - 4s 109ms/step - loss: 0.0085 - accuracy: 0.9960 - val_loss: 0.0632 - val_accuracy: 0.9733\n",
            "Epoch 79/100\n",
            "38/38 [==============================] - 4s 108ms/step - loss: 0.0192 - accuracy: 0.9948 - val_loss: 0.1481 - val_accuracy: 0.9733\n",
            "Epoch 80/100\n",
            "38/38 [==============================] - 4s 110ms/step - loss: 0.1550 - accuracy: 0.9567 - val_loss: 0.1240 - val_accuracy: 0.9733\n",
            "Epoch 81/100\n",
            "38/38 [==============================] - 4s 110ms/step - loss: 0.0597 - accuracy: 0.9755 - val_loss: 0.0864 - val_accuracy: 0.9733\n",
            "Epoch 82/100\n",
            "38/38 [==============================] - 4s 109ms/step - loss: 0.0402 - accuracy: 0.9879 - val_loss: 0.1050 - val_accuracy: 0.9467\n",
            "Epoch 83/100\n",
            "38/38 [==============================] - 4s 110ms/step - loss: 0.0119 - accuracy: 0.9936 - val_loss: 0.1674 - val_accuracy: 0.9467\n",
            "Epoch 84/100\n",
            "38/38 [==============================] - 4s 110ms/step - loss: 0.0093 - accuracy: 0.9946 - val_loss: 0.3782 - val_accuracy: 0.9000\n",
            "Epoch 85/100\n",
            "38/38 [==============================] - 4s 110ms/step - loss: 0.0677 - accuracy: 0.9800 - val_loss: 0.1705 - val_accuracy: 0.9667\n",
            "Epoch 86/100\n",
            "38/38 [==============================] - 4s 109ms/step - loss: 0.0139 - accuracy: 0.9954 - val_loss: 0.1070 - val_accuracy: 0.9800\n",
            "Epoch 87/100\n",
            "38/38 [==============================] - 4s 109ms/step - loss: 0.0032 - accuracy: 0.9982 - val_loss: 0.0911 - val_accuracy: 0.9733\n",
            "Epoch 88/100\n",
            "38/38 [==============================] - 4s 109ms/step - loss: 0.0283 - accuracy: 0.9901 - val_loss: 0.0998 - val_accuracy: 0.9733\n",
            "Epoch 89/100\n",
            "38/38 [==============================] - 4s 109ms/step - loss: 0.0056 - accuracy: 0.9957 - val_loss: 0.2438 - val_accuracy: 0.9400\n",
            "Epoch 90/100\n",
            "38/38 [==============================] - 4s 110ms/step - loss: 0.0032 - accuracy: 1.0000 - val_loss: 0.1199 - val_accuracy: 0.9600\n",
            "Epoch 91/100\n",
            "38/38 [==============================] - 4s 109ms/step - loss: 0.0145 - accuracy: 0.9968 - val_loss: 0.8816 - val_accuracy: 0.8067\n",
            "Epoch 92/100\n",
            "38/38 [==============================] - 4s 108ms/step - loss: 0.0234 - accuracy: 0.9953 - val_loss: 0.1404 - val_accuracy: 0.9600\n",
            "Epoch 93/100\n",
            "38/38 [==============================] - 4s 110ms/step - loss: 0.0561 - accuracy: 0.9856 - val_loss: 0.0765 - val_accuracy: 0.9733\n",
            "Epoch 94/100\n",
            "38/38 [==============================] - 4s 109ms/step - loss: 0.0190 - accuracy: 0.9959 - val_loss: 0.0656 - val_accuracy: 0.9733\n",
            "Epoch 95/100\n",
            "38/38 [==============================] - 4s 108ms/step - loss: 0.0093 - accuracy: 0.9969 - val_loss: 0.0911 - val_accuracy: 0.9600\n",
            "Epoch 96/100\n",
            "38/38 [==============================] - 4s 109ms/step - loss: 0.0135 - accuracy: 0.9945 - val_loss: 0.1094 - val_accuracy: 0.9667\n",
            "Epoch 97/100\n",
            "38/38 [==============================] - 4s 109ms/step - loss: 7.3287e-04 - accuracy: 1.0000 - val_loss: 0.0597 - val_accuracy: 0.9733\n",
            "Epoch 98/100\n",
            "38/38 [==============================] - 4s 110ms/step - loss: 6.4317e-04 - accuracy: 1.0000 - val_loss: 0.0584 - val_accuracy: 0.9800\n",
            "Epoch 99/100\n",
            "38/38 [==============================] - 4s 110ms/step - loss: 2.6701e-04 - accuracy: 1.0000 - val_loss: 0.0602 - val_accuracy: 0.9800\n",
            "Epoch 100/100\n",
            "38/38 [==============================] - 4s 110ms/step - loss: 2.4397e-04 - accuracy: 1.0000 - val_loss: 0.0566 - val_accuracy: 0.9800\n"
          ],
          "name": "stdout"
        },
        {
          "output_type": "execute_result",
          "data": {
            "text/plain": [
              "<tensorflow.python.keras.callbacks.History at 0x7ff59f1a8410>"
            ]
          },
          "metadata": {
            "tags": []
          },
          "execution_count": 11
        }
      ]
    },
    {
      "cell_type": "markdown",
      "metadata": {
        "id": "AwjtNMFjbDoB"
      },
      "source": [
        "#### Step 4: evaluate model  \n",
        "**Hint**:  \n",
        "Use the `'X_test'` and `'Y_test'` variables to evaluate the model's performance."
      ]
    },
    {
      "cell_type": "code",
      "metadata": {
        "collapsed": true,
        "scrolled": true,
        "id": "0iNu1ozebDoB",
        "colab": {
          "base_uri": "https://localhost:8080/",
          "height": 262
        },
        "outputId": "ae3b9d3f-45ea-47d5-d29f-055ae525ef55"
      },
      "source": [
        "### START CODE HERE ### (1 line)\n",
        "preds = happyModel.fit(X_test, Y_test)\n",
        "### END CODE HERE ###\n",
        "print()\n",
        "print (\"Loss = \" + str(preds[0]))\n",
        "print (\"Test Accuracy = \" + str(preds[1]))"
      ],
      "execution_count": 14,
      "outputs": [
        {
          "output_type": "stream",
          "text": [
            "5/5 [==============================] - 1s 177ms/step - loss: 0.0674 - accuracy: 0.9800\n",
            "\n"
          ],
          "name": "stdout"
        },
        {
          "output_type": "error",
          "ename": "TypeError",
          "evalue": "ignored",
          "traceback": [
            "\u001b[0;31m---------------------------------------------------------------------------\u001b[0m",
            "\u001b[0;31mTypeError\u001b[0m                                 Traceback (most recent call last)",
            "\u001b[0;32m<ipython-input-14-a621f437a16c>\u001b[0m in \u001b[0;36m<module>\u001b[0;34m()\u001b[0m\n\u001b[1;32m      3\u001b[0m \u001b[0;31m### END CODE HERE ###\u001b[0m\u001b[0;34m\u001b[0m\u001b[0;34m\u001b[0m\u001b[0;34m\u001b[0m\u001b[0m\n\u001b[1;32m      4\u001b[0m \u001b[0mprint\u001b[0m\u001b[0;34m(\u001b[0m\u001b[0;34m)\u001b[0m\u001b[0;34m\u001b[0m\u001b[0;34m\u001b[0m\u001b[0m\n\u001b[0;32m----> 5\u001b[0;31m \u001b[0mprint\u001b[0m \u001b[0;34m(\u001b[0m\u001b[0;34m\"Loss = \"\u001b[0m \u001b[0;34m+\u001b[0m \u001b[0mstr\u001b[0m\u001b[0;34m(\u001b[0m\u001b[0mpreds\u001b[0m\u001b[0;34m[\u001b[0m\u001b[0;36m0\u001b[0m\u001b[0;34m]\u001b[0m\u001b[0;34m)\u001b[0m\u001b[0;34m)\u001b[0m\u001b[0;34m\u001b[0m\u001b[0;34m\u001b[0m\u001b[0m\n\u001b[0m\u001b[1;32m      6\u001b[0m \u001b[0mprint\u001b[0m \u001b[0;34m(\u001b[0m\u001b[0;34m\"Test Accuracy = \"\u001b[0m \u001b[0;34m+\u001b[0m \u001b[0mstr\u001b[0m\u001b[0;34m(\u001b[0m\u001b[0mpreds\u001b[0m\u001b[0;34m[\u001b[0m\u001b[0;36m1\u001b[0m\u001b[0;34m]\u001b[0m\u001b[0;34m)\u001b[0m\u001b[0;34m)\u001b[0m\u001b[0;34m\u001b[0m\u001b[0;34m\u001b[0m\u001b[0m\n",
            "\u001b[0;31mTypeError\u001b[0m: 'History' object is not subscriptable"
          ]
        }
      ]
    },
    {
      "cell_type": "markdown",
      "metadata": {
        "id": "U6Bg7GWAbDoB"
      },
      "source": [
        "#### Expected performance   \n",
        "If your `happyModel()` function worked, its accuracy should be better than random guessing (50% accuracy).\n",
        "\n",
        "To give you a point of comparison, our model gets around **95% test accuracy in 40 epochs** (and 99% train accuracy) with a mini batch size of 16 and \"adam\" optimizer."
      ]
    },
    {
      "cell_type": "markdown",
      "metadata": {
        "id": "VXz8Qd12bDoC"
      },
      "source": [
        "#### Tips for improving your model\n",
        "\n",
        "If you have not yet achieved a very good accuracy (>= 80%), here are some things tips:\n",
        "\n",
        "- Use blocks of CONV->BATCHNORM->RELU such as:\n",
        "```python\n",
        "X = Conv2D(32, (3, 3), strides = (1, 1), name = 'conv0')(X)\n",
        "X = BatchNormalization(axis = 3, name = 'bn0')(X)\n",
        "X = Activation('relu')(X)\n",
        "```\n",
        "until your height and width dimensions are quite low and your number of channels quite large (≈32 for example).  \n",
        "You can then flatten the volume and use a fully-connected layer.\n",
        "- Use MAXPOOL after such blocks.  It will help you lower the dimension in height and width.\n",
        "- Change your optimizer. We find 'adam' works well. \n",
        "- If you get memory issues, lower your batch_size (e.g. 12 )\n",
        "- Run more epochs until you see the train accuracy no longer improves. \n",
        "\n",
        "**Note**: If you perform hyperparameter tuning on your model, the test set actually becomes a dev set, and your model might end up overfitting to the test (dev) set. Normally, you'll want separate dev and test sets.  The dev set is used for parameter tuning, and the test set is used once to estimate the model's performance in production."
      ]
    },
    {
      "cell_type": "markdown",
      "metadata": {
        "id": "6p_y0XKybDoC"
      },
      "source": [
        "## 3 - Conclusion\n",
        "\n",
        "Congratulations, you have created a proof of concept for \"happiness detection\"!"
      ]
    },
    {
      "cell_type": "markdown",
      "metadata": {
        "id": "QNnf-HUSbDoD"
      },
      "source": [
        "## Key Points to remember\n",
        "- Keras is a tool we recommend for rapid prototyping. It allows you to quickly try out different model architectures.\n",
        "- Remember The four steps in Keras: \n",
        "\n",
        "\n",
        "1. Create  \n",
        "2. Compile  \n",
        "3. Fit/Train  \n",
        "4. Evaluate/Test  "
      ]
    },
    {
      "cell_type": "markdown",
      "metadata": {
        "id": "ASAP9VATbDoE"
      },
      "source": [
        "## 4 - Test with your own image (Optional)\n",
        "\n",
        "Congratulations on finishing this assignment. You can now take a picture of your face and see if it can classify whether your expression is \"happy\" or \"not happy\". To do that:\n",
        "\n",
        "\n",
        "1. Click on \"File\" in the upper bar of this notebook, then click \"Open\" to go on your Coursera Hub.\n",
        "2. Add your image to this Jupyter Notebook's directory, in the \"images\" folder\n",
        "3. Write your image's name in the following code\n",
        "4. Run the code and check if the algorithm is right (0 is not happy, 1 is happy)!\n",
        "    \n",
        "The training/test sets were quite similar; for example, all the pictures were taken against the same background (since a front door camera is always mounted in the same position). This makes the problem easier, but a model trained on this data may or may not work on your own data. But feel free to give it a try! "
      ]
    },
    {
      "cell_type": "code",
      "metadata": {
        "collapsed": true,
        "id": "WSy8_WbmbDoE",
        "colab": {
          "base_uri": "https://localhost:8080/",
          "height": 286
        },
        "outputId": "5c7b788d-46d0-4684-811e-6038161ef712"
      },
      "source": [
        "### START CODE HERE ###\n",
        "img_path = '/content/drive/MyDrive/Colab Notebooks/Copy of Suraj_Pandey_photo.jpg'\n",
        "### END CODE HERE ###\n",
        "img = image.load_img(img_path, target_size=(64, 64))\n",
        "imshow(img)\n",
        "\n",
        "x = image.img_to_array(img)\n",
        "x = np.expand_dims(x, axis=0)\n",
        "x = preprocess_input(x)\n",
        "\n",
        "print(happyModel.predict(x))"
      ],
      "execution_count": 16,
      "outputs": [
        {
          "output_type": "stream",
          "text": [
            "[[1.]]\n"
          ],
          "name": "stdout"
        },
        {
          "output_type": "display_data",
          "data": {
            "image/png": "[encoded data removed]",
            "text/plain": [
              "<Figure size 432x288 with 1 Axes>"
            ]
          },
          "metadata": {
            "tags": [],
            "needs_background": "light"
          }
        }
      ]
    },
    {
      "cell_type": "markdown",
      "metadata": {
        "id": "3ExtsDqubDoF"
      },
      "source": [
        "## 5 - Other useful functions in Keras (Optional)\n",
        "\n",
        "Two other basic features of Keras that you'll find useful are:\n",
        "- `model.summary()`: prints the details of your layers in a table with the sizes of its inputs/outputs\n",
        "- `plot_model()`: plots your graph in a nice layout. You can even save it as \".png\" using SVG() if you'd like to share it on social media ;). It is saved in \"File\" then \"Open...\" in the upper bar of the notebook.\n",
        "\n",
        "Run the following code."
      ]
    },
    {
      "cell_type": "code",
      "metadata": {
        "collapsed": true,
        "scrolled": false,
        "id": "S1Kfwr5PbDoF",
        "colab": {
          "base_uri": "https://localhost:8080/"
        },
        "outputId": "6c822444-1e38-406e-fbf1-4de0c1b805f7"
      },
      "source": [
        "happyModel.summary()"
      ],
      "execution_count": 17,
      "outputs": [
        {
          "output_type": "stream",
          "text": [
            "Model: \"HappyModel\"\n",
            "_________________________________________________________________\n",
            "Layer (type)                 Output Shape              Param #   \n",
            "=================================================================\n",
            "input_1 (InputLayer)         [(None, 64, 64, 3)]       0         \n",
            "_________________________________________________________________\n",
            "zero_padding2d (ZeroPadding2 (None, 70, 70, 3)         0         \n",
            "_________________________________________________________________\n",
            "conv0 (Conv2D)               (None, 64, 64, 32)        4736      \n",
            "_________________________________________________________________\n",
            "bn0 (BatchNormalization)     (None, 64, 64, 32)        128       \n",
            "_________________________________________________________________\n",
            "activation (Activation)      (None, 64, 64, 32)        0         \n",
            "_________________________________________________________________\n",
            "max_pool (MaxPooling2D)      (None, 32, 32, 32)        0         \n",
            "_________________________________________________________________\n",
            "flatten (Flatten)            (None, 32768)             0         \n",
            "_________________________________________________________________\n",
            "fc (Dense)                   (None, 1)                 32769     \n",
            "=================================================================\n",
            "Total params: 37,633\n",
            "Trainable params: 37,569\n",
            "Non-trainable params: 64\n",
            "_________________________________________________________________\n"
          ],
          "name": "stdout"
        }
      ]
    },
    {
      "cell_type": "code",
      "metadata": {
        "collapsed": true,
        "id": "pgBqoVpmbDoG",
        "colab": {
          "base_uri": "https://localhost:8080/",
          "height": 1000
        },
        "outputId": "d365e1d1-31b1-43e9-a865-709aedd0e46d"
      },
      "source": [
        "plot_model(happyModel, to_file='HappyModel.png')\n",
        "SVG(model_to_dot(happyModel).create(prog='dot', format='svg'))"
      ],
      "execution_count": 18,
      "outputs": [
        {
          "output_type": "execute_result",
          "data": {
            "text/plain": [
              "<IPython.core.display.SVG object>"
            ],
            "image/svg+xml": "<svg height=\"741pt\" viewBox=\"0.00 0.00 219.00 556.00\" width=\"292pt\" xmlns=\"http://www.w3.org/2000/svg\" xmlns:xlink=\"http://www.w3.org/1999/xlink\">\n<g class=\"graph\" id=\"graph0\" transform=\"scale(1.3333 1.3333) rotate(0) translate(4 552)\">\n<title>G</title>\n<polygon fill=\"#ffffff\" points=\"-4,4 -4,-552 215,-552 215,4 -4,4\" stroke=\"transparent\"/>\n<!-- 140692980395152 -->\n<g class=\"node\" id=\"node1\">\n<title>140692980395152</title>\n<polygon fill=\"none\" points=\"39,-511.5 39,-547.5 172,-547.5 172,-511.5 39,-511.5\" stroke=\"#000000\"/>\n<text fill=\"#000000\" font-family=\"Times,serif\" font-size=\"14.00\" text-anchor=\"middle\" x=\"105.5\" y=\"-525.8\">input_1: InputLayer</text>\n</g>\n<!-- 140692980412240 -->\n<g class=\"node\" id=\"node2\">\n<title>140692980412240</title>\n<polygon fill=\"none\" points=\"0,-438.5 0,-474.5 211,-474.5 211,-438.5 0,-438.5\" stroke=\"#000000\"/>\n<text fill=\"#000000\" font-family=\"Times,serif\" font-size=\"14.00\" text-anchor=\"middle\" x=\"105.5\" y=\"-452.8\">zero_padding2d: ZeroPadding2D</text>\n</g>\n<!-- 140692980395152&#45;&gt;140692980412240 -->\n<g class=\"edge\" id=\"edge1\">\n<title>140692980395152-&gt;140692980412240</title>\n<path d=\"M105.5,-511.4551C105.5,-503.3828 105.5,-493.6764 105.5,-484.6817\" fill=\"none\" stroke=\"#000000\"/>\n<polygon fill=\"#000000\" points=\"109.0001,-484.5903 105.5,-474.5904 102.0001,-484.5904 109.0001,-484.5903\" stroke=\"#000000\"/>\n</g>\n<!-- 140692980513232 -->\n<g class=\"node\" id=\"node3\">\n<title>140692980513232</title>\n<polygon fill=\"none\" points=\"50.5,-365.5 50.5,-401.5 160.5,-401.5 160.5,-365.5 50.5,-365.5\" stroke=\"#000000\"/>\n<text fill=\"#000000\" font-family=\"Times,serif\" font-size=\"14.00\" text-anchor=\"middle\" x=\"105.5\" y=\"-379.8\">conv0: Conv2D</text>\n</g>\n<!-- 140692980412240&#45;&gt;140692980513232 -->\n<g class=\"edge\" id=\"edge2\">\n<title>140692980412240-&gt;140692980513232</title>\n<path d=\"M105.5,-438.4551C105.5,-430.3828 105.5,-420.6764 105.5,-411.6817\" fill=\"none\" stroke=\"#000000\"/>\n<polygon fill=\"#000000\" points=\"109.0001,-411.5903 105.5,-401.5904 102.0001,-411.5904 109.0001,-411.5903\" stroke=\"#000000\"/>\n</g>\n<!-- 140692971585488 -->\n<g class=\"node\" id=\"node4\">\n<title>140692971585488</title>\n<polygon fill=\"none\" points=\"25,-292.5 25,-328.5 186,-328.5 186,-292.5 25,-292.5\" stroke=\"#000000\"/>\n<text fill=\"#000000\" font-family=\"Times,serif\" font-size=\"14.00\" text-anchor=\"middle\" x=\"105.5\" y=\"-306.8\">bn0: BatchNormalization</text>\n</g>\n<!-- 140692980513232&#45;&gt;140692971585488 -->\n<g class=\"edge\" id=\"edge3\">\n<title>140692980513232-&gt;140692971585488</title>\n<path d=\"M105.5,-365.4551C105.5,-357.3828 105.5,-347.6764 105.5,-338.6817\" fill=\"none\" stroke=\"#000000\"/>\n<polygon fill=\"#000000\" points=\"109.0001,-338.5903 105.5,-328.5904 102.0001,-338.5904 109.0001,-338.5903\" stroke=\"#000000\"/>\n</g>\n<!-- 140692971363536 -->\n<g class=\"node\" id=\"node5\">\n<title>140692971363536</title>\n<polygon fill=\"none\" points=\"36,-219.5 36,-255.5 175,-255.5 175,-219.5 36,-219.5\" stroke=\"#000000\"/>\n<text fill=\"#000000\" font-family=\"Times,serif\" font-size=\"14.00\" text-anchor=\"middle\" x=\"105.5\" y=\"-233.8\">activation: Activation</text>\n</g>\n<!-- 140692971585488&#45;&gt;140692971363536 -->\n<g class=\"edge\" id=\"edge4\">\n<title>140692971585488-&gt;140692971363536</title>\n<path d=\"M105.5,-292.4551C105.5,-284.3828 105.5,-274.6764 105.5,-265.6817\" fill=\"none\" stroke=\"#000000\"/>\n<polygon fill=\"#000000\" points=\"109.0001,-265.5903 105.5,-255.5904 102.0001,-265.5904 109.0001,-265.5903\" stroke=\"#000000\"/>\n</g>\n<!-- 140692913401040 -->\n<g class=\"node\" id=\"node6\">\n<title>140692913401040</title>\n<polygon fill=\"none\" points=\"19,-146.5 19,-182.5 192,-182.5 192,-146.5 19,-146.5\" stroke=\"#000000\"/>\n<text fill=\"#000000\" font-family=\"Times,serif\" font-size=\"14.00\" text-anchor=\"middle\" x=\"105.5\" y=\"-160.8\">max_pool: MaxPooling2D</text>\n</g>\n<!-- 140692971363536&#45;&gt;140692913401040 -->\n<g class=\"edge\" id=\"edge5\">\n<title>140692971363536-&gt;140692913401040</title>\n<path d=\"M105.5,-219.4551C105.5,-211.3828 105.5,-201.6764 105.5,-192.6817\" fill=\"none\" stroke=\"#000000\"/>\n<polygon fill=\"#000000\" points=\"109.0001,-192.5903 105.5,-182.5904 102.0001,-192.5904 109.0001,-192.5903\" stroke=\"#000000\"/>\n</g>\n<!-- 140692913369936 -->\n<g class=\"node\" id=\"node7\">\n<title>140692913369936</title>\n<polygon fill=\"none\" points=\"56.5,-73.5 56.5,-109.5 154.5,-109.5 154.5,-73.5 56.5,-73.5\" stroke=\"#000000\"/>\n<text fill=\"#000000\" font-family=\"Times,serif\" font-size=\"14.00\" text-anchor=\"middle\" x=\"105.5\" y=\"-87.8\">flatten: Flatten</text>\n</g>\n<!-- 140692913401040&#45;&gt;140692913369936 -->\n<g class=\"edge\" id=\"edge6\">\n<title>140692913401040-&gt;140692913369936</title>\n<path d=\"M105.5,-146.4551C105.5,-138.3828 105.5,-128.6764 105.5,-119.6817\" fill=\"none\" stroke=\"#000000\"/>\n<polygon fill=\"#000000\" points=\"109.0001,-119.5903 105.5,-109.5904 102.0001,-119.5904 109.0001,-119.5903\" stroke=\"#000000\"/>\n</g>\n<!-- 140692971584080 -->\n<g class=\"node\" id=\"node8\">\n<title>140692971584080</title>\n<polygon fill=\"none\" points=\"70.5,-.5 70.5,-36.5 140.5,-36.5 140.5,-.5 70.5,-.5\" stroke=\"#000000\"/>\n<text fill=\"#000000\" font-family=\"Times,serif\" font-size=\"14.00\" text-anchor=\"middle\" x=\"105.5\" y=\"-14.8\">fc: Dense</text>\n</g>\n<!-- 140692913369936&#45;&gt;140692971584080 -->\n<g class=\"edge\" id=\"edge7\">\n<title>140692913369936-&gt;140692971584080</title>\n<path d=\"M105.5,-73.4551C105.5,-65.3828 105.5,-55.6764 105.5,-46.6817\" fill=\"none\" stroke=\"#000000\"/>\n<polygon fill=\"#000000\" points=\"109.0001,-46.5903 105.5,-36.5904 102.0001,-46.5904 109.0001,-46.5903\" stroke=\"#000000\"/>\n</g>\n</g>\n</svg>"
          },
          "metadata": {
            "tags": []
          },
          "execution_count": 18
        }
      ]
    }
  ]
}